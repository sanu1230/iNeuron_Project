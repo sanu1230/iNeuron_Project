{
  "nbformat": 4,
  "nbformat_minor": 0,
  "metadata": {
    "kernelspec": {
      "display_name": "Python 3",
      "language": "python",
      "name": "python3"
    },
    "language_info": {
      "codemirror_mode": {
        "name": "ipython",
        "version": 3
      },
      "file_extension": ".py",
      "mimetype": "text/x-python",
      "name": "python",
      "nbconvert_exporter": "python",
      "pygments_lexer": "ipython3",
      "version": "3.8.3"
    },
    "colab": {
      "name": "1 Sentimental Analysis Using Hotel Reviews.ipynb",
      "provenance": [],
      "toc_visible": true
    }
  },
  "cells": [
    {
      "cell_type": "code",
      "metadata": {
        "colab": {
          "base_uri": "https://localhost:8080/"
        },
        "id": "ABlhk208Z84h",
        "outputId": "dac72acd-e5e4-41d5-8714-92485ce3c871"
      },
      "source": [
        "import numpy as np \n",
        "import pandas as pd \n",
        "import re\n",
        "import nltk\n",
        "import string\n",
        "from nltk.tokenize import word_tokenize\n",
        "from nltk.corpus import stopwords\n",
        "from nltk.stem.porter import PorterStemmer\n",
        "import pickle\n",
        "nltk.download('punkt')\n",
        "nltk.download('stopwords')\n",
        "nltk.download('wordnet')"
      ],
      "execution_count": 34,
      "outputs": [
        {
          "output_type": "stream",
          "text": [
            "[nltk_data] Downloading package punkt to /root/nltk_data...\n",
            "[nltk_data]   Unzipping tokenizers/punkt.zip.\n",
            "[nltk_data] Downloading package stopwords to /root/nltk_data...\n",
            "[nltk_data]   Unzipping corpora/stopwords.zip.\n",
            "[nltk_data] Downloading package wordnet to /root/nltk_data...\n",
            "[nltk_data]   Unzipping corpora/wordnet.zip.\n"
          ],
          "name": "stdout"
        },
        {
          "output_type": "execute_result",
          "data": {
            "text/plain": [
              "True"
            ]
          },
          "metadata": {
            "tags": []
          },
          "execution_count": 34
        }
      ]
    },
    {
      "cell_type": "markdown",
      "metadata": {
        "id": "lEmSnd5IZ84m"
      },
      "source": [
        "#### Loading Data\n"
      ]
    },
    {
      "cell_type": "code",
      "metadata": {
        "colab": {
          "base_uri": "https://localhost:8080/"
        },
        "id": "de8a6pP7Z84o",
        "outputId": "a350d479-a37b-4fab-a19c-f1cbf3511b06"
      },
      "source": [
        "data = pd.read_csv('/content/hotel_reviews10000.csv')\n",
        "data.shape"
      ],
      "execution_count": 24,
      "outputs": [
        {
          "output_type": "execute_result",
          "data": {
            "text/plain": [
              "(10000, 5)"
            ]
          },
          "metadata": {
            "tags": []
          },
          "execution_count": 24
        }
      ]
    },
    {
      "cell_type": "code",
      "metadata": {
        "colab": {
          "base_uri": "https://localhost:8080/"
        },
        "id": "1S9keeHWZ84p",
        "outputId": "066f5d27-4ed4-4eff-c323-e950255c9ac4"
      },
      "source": [
        "data.isnull().sum() #checking for null values"
      ],
      "execution_count": 25,
      "outputs": [
        {
          "output_type": "execute_result",
          "data": {
            "text/plain": [
              "User_ID         0\n",
              "Description     0\n",
              "Browser_Used    0\n",
              "Device_Used     0\n",
              "Is_Response     0\n",
              "dtype: int64"
            ]
          },
          "metadata": {
            "tags": []
          },
          "execution_count": 25
        }
      ]
    },
    {
      "cell_type": "code",
      "metadata": {
        "colab": {
          "base_uri": "https://localhost:8080/",
          "height": 343
        },
        "id": "3IxVJEiiZ84q",
        "outputId": "2036a6f2-9c3e-42dd-d8ca-8daa5f2cf81f"
      },
      "source": [
        "data.head(10)"
      ],
      "execution_count": 26,
      "outputs": [
        {
          "output_type": "execute_result",
          "data": {
            "text/html": [
              "<div>\n",
              "<style scoped>\n",
              "    .dataframe tbody tr th:only-of-type {\n",
              "        vertical-align: middle;\n",
              "    }\n",
              "\n",
              "    .dataframe tbody tr th {\n",
              "        vertical-align: top;\n",
              "    }\n",
              "\n",
              "    .dataframe thead th {\n",
              "        text-align: right;\n",
              "    }\n",
              "</style>\n",
              "<table border=\"1\" class=\"dataframe\">\n",
              "  <thead>\n",
              "    <tr style=\"text-align: right;\">\n",
              "      <th></th>\n",
              "      <th>User_ID</th>\n",
              "      <th>Description</th>\n",
              "      <th>Browser_Used</th>\n",
              "      <th>Device_Used</th>\n",
              "      <th>Is_Response</th>\n",
              "    </tr>\n",
              "  </thead>\n",
              "  <tbody>\n",
              "    <tr>\n",
              "      <th>0</th>\n",
              "      <td>id10326</td>\n",
              "      <td>The room was kind of clean but had a VERY stro...</td>\n",
              "      <td>Edge</td>\n",
              "      <td>Mobile</td>\n",
              "      <td>not happy</td>\n",
              "    </tr>\n",
              "    <tr>\n",
              "      <th>1</th>\n",
              "      <td>id10327</td>\n",
              "      <td>I stayed at the Crown Plaza April -- - April -...</td>\n",
              "      <td>Internet Explorer</td>\n",
              "      <td>Mobile</td>\n",
              "      <td>not happy</td>\n",
              "    </tr>\n",
              "    <tr>\n",
              "      <th>2</th>\n",
              "      <td>id10328</td>\n",
              "      <td>I booked this hotel through Hotwire at the low...</td>\n",
              "      <td>Mozilla</td>\n",
              "      <td>Tablet</td>\n",
              "      <td>not happy</td>\n",
              "    </tr>\n",
              "    <tr>\n",
              "      <th>3</th>\n",
              "      <td>id10329</td>\n",
              "      <td>Stayed here with husband and sons on the way t...</td>\n",
              "      <td>InternetExplorer</td>\n",
              "      <td>Desktop</td>\n",
              "      <td>happy</td>\n",
              "    </tr>\n",
              "    <tr>\n",
              "      <th>4</th>\n",
              "      <td>id10330</td>\n",
              "      <td>My girlfriends and I stayed here to celebrate ...</td>\n",
              "      <td>Edge</td>\n",
              "      <td>Tablet</td>\n",
              "      <td>not happy</td>\n",
              "    </tr>\n",
              "    <tr>\n",
              "      <th>5</th>\n",
              "      <td>id10331</td>\n",
              "      <td>We had - rooms. One was very nice and clearly ...</td>\n",
              "      <td>InternetExplorer</td>\n",
              "      <td>Desktop</td>\n",
              "      <td>happy</td>\n",
              "    </tr>\n",
              "    <tr>\n",
              "      <th>6</th>\n",
              "      <td>id10332</td>\n",
              "      <td>My husband and I have stayed in this hotel a f...</td>\n",
              "      <td>Firefox</td>\n",
              "      <td>Tablet</td>\n",
              "      <td>not happy</td>\n",
              "    </tr>\n",
              "    <tr>\n",
              "      <th>7</th>\n",
              "      <td>id10333</td>\n",
              "      <td>My wife &amp; I stayed in this glorious city a whi...</td>\n",
              "      <td>Google Chrome</td>\n",
              "      <td>Mobile</td>\n",
              "      <td>happy</td>\n",
              "    </tr>\n",
              "    <tr>\n",
              "      <th>8</th>\n",
              "      <td>id10334</td>\n",
              "      <td>My boyfriend and I stayed at the Fairmont on a...</td>\n",
              "      <td>Internet Explorer</td>\n",
              "      <td>Desktop</td>\n",
              "      <td>happy</td>\n",
              "    </tr>\n",
              "    <tr>\n",
              "      <th>9</th>\n",
              "      <td>id10335</td>\n",
              "      <td>Wonderful staff, great location, but it was de...</td>\n",
              "      <td>Chrome</td>\n",
              "      <td>Tablet</td>\n",
              "      <td>not happy</td>\n",
              "    </tr>\n",
              "  </tbody>\n",
              "</table>\n",
              "</div>"
            ],
            "text/plain": [
              "   User_ID  ... Is_Response\n",
              "0  id10326  ...   not happy\n",
              "1  id10327  ...   not happy\n",
              "2  id10328  ...   not happy\n",
              "3  id10329  ...       happy\n",
              "4  id10330  ...   not happy\n",
              "5  id10331  ...       happy\n",
              "6  id10332  ...   not happy\n",
              "7  id10333  ...       happy\n",
              "8  id10334  ...       happy\n",
              "9  id10335  ...   not happy\n",
              "\n",
              "[10 rows x 5 columns]"
            ]
          },
          "metadata": {
            "tags": []
          },
          "execution_count": 26
        }
      ]
    },
    {
      "cell_type": "code",
      "metadata": {
        "id": "gOPO7NS3Z84s"
      },
      "source": [
        "data.drop(columns = ['User_ID', 'Browser_Used', 'Device_Used'], inplace = True)"
      ],
      "execution_count": 27,
      "outputs": []
    },
    {
      "cell_type": "code",
      "metadata": {
        "colab": {
          "base_uri": "https://localhost:8080/",
          "height": 195
        },
        "id": "ciT89j8bZ84u",
        "outputId": "f0cc7de6-95ee-438a-adac-e6fcbc59cb26"
      },
      "source": [
        "data.head()"
      ],
      "execution_count": 28,
      "outputs": [
        {
          "output_type": "execute_result",
          "data": {
            "text/html": [
              "<div>\n",
              "<style scoped>\n",
              "    .dataframe tbody tr th:only-of-type {\n",
              "        vertical-align: middle;\n",
              "    }\n",
              "\n",
              "    .dataframe tbody tr th {\n",
              "        vertical-align: top;\n",
              "    }\n",
              "\n",
              "    .dataframe thead th {\n",
              "        text-align: right;\n",
              "    }\n",
              "</style>\n",
              "<table border=\"1\" class=\"dataframe\">\n",
              "  <thead>\n",
              "    <tr style=\"text-align: right;\">\n",
              "      <th></th>\n",
              "      <th>Description</th>\n",
              "      <th>Is_Response</th>\n",
              "    </tr>\n",
              "  </thead>\n",
              "  <tbody>\n",
              "    <tr>\n",
              "      <th>0</th>\n",
              "      <td>The room was kind of clean but had a VERY stro...</td>\n",
              "      <td>not happy</td>\n",
              "    </tr>\n",
              "    <tr>\n",
              "      <th>1</th>\n",
              "      <td>I stayed at the Crown Plaza April -- - April -...</td>\n",
              "      <td>not happy</td>\n",
              "    </tr>\n",
              "    <tr>\n",
              "      <th>2</th>\n",
              "      <td>I booked this hotel through Hotwire at the low...</td>\n",
              "      <td>not happy</td>\n",
              "    </tr>\n",
              "    <tr>\n",
              "      <th>3</th>\n",
              "      <td>Stayed here with husband and sons on the way t...</td>\n",
              "      <td>happy</td>\n",
              "    </tr>\n",
              "    <tr>\n",
              "      <th>4</th>\n",
              "      <td>My girlfriends and I stayed here to celebrate ...</td>\n",
              "      <td>not happy</td>\n",
              "    </tr>\n",
              "  </tbody>\n",
              "</table>\n",
              "</div>"
            ],
            "text/plain": [
              "                                         Description Is_Response\n",
              "0  The room was kind of clean but had a VERY stro...   not happy\n",
              "1  I stayed at the Crown Plaza April -- - April -...   not happy\n",
              "2  I booked this hotel through Hotwire at the low...   not happy\n",
              "3  Stayed here with husband and sons on the way t...       happy\n",
              "4  My girlfriends and I stayed here to celebrate ...   not happy"
            ]
          },
          "metadata": {
            "tags": []
          },
          "execution_count": 28
        }
      ]
    },
    {
      "cell_type": "code",
      "metadata": {
        "id": "EcfmBdwFZ84v"
      },
      "source": [
        "\n",
        "def encode(x):\n",
        "    if x == 'not happy':\n",
        "        return 0\n",
        "    else:\n",
        "        return 1\n",
        "data.Is_Response = data.Is_Response.apply(encode)\n",
        "# 1 for happy\n",
        "#0 for unhappy"
      ],
      "execution_count": 29,
      "outputs": []
    },
    {
      "cell_type": "code",
      "metadata": {
        "colab": {
          "base_uri": "https://localhost:8080/",
          "height": 343
        },
        "id": "E1Xb5HcfZ84w",
        "outputId": "240520e6-6f5b-4349-d437-e4f7f77e3fca"
      },
      "source": [
        "data.head(10)"
      ],
      "execution_count": 30,
      "outputs": [
        {
          "output_type": "execute_result",
          "data": {
            "text/html": [
              "<div>\n",
              "<style scoped>\n",
              "    .dataframe tbody tr th:only-of-type {\n",
              "        vertical-align: middle;\n",
              "    }\n",
              "\n",
              "    .dataframe tbody tr th {\n",
              "        vertical-align: top;\n",
              "    }\n",
              "\n",
              "    .dataframe thead th {\n",
              "        text-align: right;\n",
              "    }\n",
              "</style>\n",
              "<table border=\"1\" class=\"dataframe\">\n",
              "  <thead>\n",
              "    <tr style=\"text-align: right;\">\n",
              "      <th></th>\n",
              "      <th>Description</th>\n",
              "      <th>Is_Response</th>\n",
              "    </tr>\n",
              "  </thead>\n",
              "  <tbody>\n",
              "    <tr>\n",
              "      <th>0</th>\n",
              "      <td>The room was kind of clean but had a VERY stro...</td>\n",
              "      <td>0</td>\n",
              "    </tr>\n",
              "    <tr>\n",
              "      <th>1</th>\n",
              "      <td>I stayed at the Crown Plaza April -- - April -...</td>\n",
              "      <td>0</td>\n",
              "    </tr>\n",
              "    <tr>\n",
              "      <th>2</th>\n",
              "      <td>I booked this hotel through Hotwire at the low...</td>\n",
              "      <td>0</td>\n",
              "    </tr>\n",
              "    <tr>\n",
              "      <th>3</th>\n",
              "      <td>Stayed here with husband and sons on the way t...</td>\n",
              "      <td>1</td>\n",
              "    </tr>\n",
              "    <tr>\n",
              "      <th>4</th>\n",
              "      <td>My girlfriends and I stayed here to celebrate ...</td>\n",
              "      <td>0</td>\n",
              "    </tr>\n",
              "    <tr>\n",
              "      <th>5</th>\n",
              "      <td>We had - rooms. One was very nice and clearly ...</td>\n",
              "      <td>1</td>\n",
              "    </tr>\n",
              "    <tr>\n",
              "      <th>6</th>\n",
              "      <td>My husband and I have stayed in this hotel a f...</td>\n",
              "      <td>0</td>\n",
              "    </tr>\n",
              "    <tr>\n",
              "      <th>7</th>\n",
              "      <td>My wife &amp; I stayed in this glorious city a whi...</td>\n",
              "      <td>1</td>\n",
              "    </tr>\n",
              "    <tr>\n",
              "      <th>8</th>\n",
              "      <td>My boyfriend and I stayed at the Fairmont on a...</td>\n",
              "      <td>1</td>\n",
              "    </tr>\n",
              "    <tr>\n",
              "      <th>9</th>\n",
              "      <td>Wonderful staff, great location, but it was de...</td>\n",
              "      <td>0</td>\n",
              "    </tr>\n",
              "  </tbody>\n",
              "</table>\n",
              "</div>"
            ],
            "text/plain": [
              "                                         Description  Is_Response\n",
              "0  The room was kind of clean but had a VERY stro...            0\n",
              "1  I stayed at the Crown Plaza April -- - April -...            0\n",
              "2  I booked this hotel through Hotwire at the low...            0\n",
              "3  Stayed here with husband and sons on the way t...            1\n",
              "4  My girlfriends and I stayed here to celebrate ...            0\n",
              "5  We had - rooms. One was very nice and clearly ...            1\n",
              "6  My husband and I have stayed in this hotel a f...            0\n",
              "7  My wife & I stayed in this glorious city a whi...            1\n",
              "8  My boyfriend and I stayed at the Fairmont on a...            1\n",
              "9  Wonderful staff, great location, but it was de...            0"
            ]
          },
          "metadata": {
            "tags": []
          },
          "execution_count": 30
        }
      ]
    },
    {
      "cell_type": "code",
      "metadata": {
        "id": "8YrC4x6vZ84x"
      },
      "source": [
        "def removeApostrophe(review):\n",
        "    phrase = re.sub(r\"won't\", \"will not\", review)\n",
        "    phrase = re.sub(r\"can\\'t\", \"can not\", review)\n",
        "    phrase = re.sub(r\"n\\'t\", \" not\", review)\n",
        "    phrase = re.sub(r\"\\'re\", \" are\", review)\n",
        "    phrase = re.sub(r\"\\'s\", \" is\", review)\n",
        "    phrase = re.sub(r\"\\'d\", \" would\", review)\n",
        "    phrase = re.sub(r\"\\'ll\", \" will\", review)\n",
        "    phrase = re.sub(r\"\\'t\", \" not\", review)\n",
        "    phrase = re.sub(r\"\\'ve\", \" have\", review)\n",
        "    phrase = re.sub(r\"\\'m\", \" am\", review)\n",
        "    return phrase"
      ],
      "execution_count": 120,
      "outputs": []
    },
    {
      "cell_type": "code",
      "metadata": {
        "colab": {
          "base_uri": "https://localhost:8080/",
          "height": 35
        },
        "id": "GLTa_u2YYZSD",
        "outputId": "4277933d-17cd-4bd6-e5c8-60e327ae00e4"
      },
      "source": [
        "removeApostrophe(\"I can't go home\")"
      ],
      "execution_count": 121,
      "outputs": [
        {
          "output_type": "execute_result",
          "data": {
            "application/vnd.google.colaboratory.intrinsic+json": {
              "type": "string"
            },
            "text/plain": [
              "\"I can't go home\""
            ]
          },
          "metadata": {
            "tags": []
          },
          "execution_count": 121
        }
      ]
    },
    {
      "cell_type": "code",
      "metadata": {
        "id": "8XOXCALmZ84x"
      },
      "source": [
        "def cleaning(df):\n",
        "    all_reviews = list()\n",
        "    lines = df[\"Description\"].values.tolist()\n",
        "    for text in lines:\n",
        "        text = text.lower() # converting the text to lower case\n",
        "        pattern = re.compile('http[s]?://(?:[a-zA-Z]|[0-9]|[$-_@.&+]|[!*\\(\\),]|(?:%[0-9a-fA-F][0-9a-fA-F]))+')\n",
        "        text = pattern.sub('', text) # removes URL'S\n",
        "        text = re.sub(r\"[,.\\\"!@#$%^&*(){}?/;`~:<>+=-]\", \"\", text) #removes punctuation\n",
        "        text = removeApostrophe(text)\n",
        "        tokens = nltk.word_tokenize(text) #tokenizing\n",
        "        table = str.maketrans('', '', string.punctuation)\n",
        "        stripped = [w.translate(table) for w in tokens]\n",
        "        words = [word for word in stripped if word.isalpha()] #filtering only text data\n",
        "        stop_words = set(stopwords.words(\"english\"))\n",
        "        stop_words.discard(\"not\") #removing \"not\" from stopwords as it is sentimental analysis\n",
        "        PS = PorterStemmer()\n",
        "        words = [PS.stem(w) for w in words if not w in stop_words] #stemming and removing stopwords\n",
        "        words = ' '.join(words) #joining strings \n",
        "        all_reviews.append(words)\n",
        "    return all_reviews\n",
        "\n",
        "reviews = cleaning(data)\n"
      ],
      "execution_count": 35,
      "outputs": []
    },
    {
      "cell_type": "code",
      "metadata": {
        "id": "TuYpsC8-Z84y"
      },
      "source": [
        "data['cleaned_reviews'] = reviews"
      ],
      "execution_count": 39,
      "outputs": []
    },
    {
      "cell_type": "code",
      "metadata": {
        "colab": {
          "base_uri": "https://localhost:8080/",
          "height": 195
        },
        "id": "T9QA6z-Susy1",
        "outputId": "14537801-4706-4aa3-d62a-9eaafa29f7d9"
      },
      "source": [
        "data.head()"
      ],
      "execution_count": 40,
      "outputs": [
        {
          "output_type": "execute_result",
          "data": {
            "text/html": [
              "<div>\n",
              "<style scoped>\n",
              "    .dataframe tbody tr th:only-of-type {\n",
              "        vertical-align: middle;\n",
              "    }\n",
              "\n",
              "    .dataframe tbody tr th {\n",
              "        vertical-align: top;\n",
              "    }\n",
              "\n",
              "    .dataframe thead th {\n",
              "        text-align: right;\n",
              "    }\n",
              "</style>\n",
              "<table border=\"1\" class=\"dataframe\">\n",
              "  <thead>\n",
              "    <tr style=\"text-align: right;\">\n",
              "      <th></th>\n",
              "      <th>Description</th>\n",
              "      <th>Is_Response</th>\n",
              "      <th>cleaned_reviews</th>\n",
              "    </tr>\n",
              "  </thead>\n",
              "  <tbody>\n",
              "    <tr>\n",
              "      <th>0</th>\n",
              "      <td>The room was kind of clean but had a VERY stro...</td>\n",
              "      <td>0</td>\n",
              "      <td>room kind clean strong smell dog gener averag ...</td>\n",
              "    </tr>\n",
              "    <tr>\n",
              "      <th>1</th>\n",
              "      <td>I stayed at the Crown Plaza April -- - April -...</td>\n",
              "      <td>0</td>\n",
              "      <td>stay crown plaza april april staff friendli at...</td>\n",
              "    </tr>\n",
              "    <tr>\n",
              "      <th>2</th>\n",
              "      <td>I booked this hotel through Hotwire at the low...</td>\n",
              "      <td>0</td>\n",
              "      <td>book hotel hotwir lowest price could find got ...</td>\n",
              "    </tr>\n",
              "    <tr>\n",
              "      <th>3</th>\n",
              "      <td>Stayed here with husband and sons on the way t...</td>\n",
              "      <td>1</td>\n",
              "      <td>stay husband son way alaska cruis love hotel g...</td>\n",
              "    </tr>\n",
              "    <tr>\n",
              "      <th>4</th>\n",
              "      <td>My girlfriends and I stayed here to celebrate ...</td>\n",
              "      <td>0</td>\n",
              "      <td>girlfriend stay celebr th birthday plan weeken...</td>\n",
              "    </tr>\n",
              "  </tbody>\n",
              "</table>\n",
              "</div>"
            ],
            "text/plain": [
              "                                         Description  ...                                    cleaned_reviews\n",
              "0  The room was kind of clean but had a VERY stro...  ...  room kind clean strong smell dog gener averag ...\n",
              "1  I stayed at the Crown Plaza April -- - April -...  ...  stay crown plaza april april staff friendli at...\n",
              "2  I booked this hotel through Hotwire at the low...  ...  book hotel hotwir lowest price could find got ...\n",
              "3  Stayed here with husband and sons on the way t...  ...  stay husband son way alaska cruis love hotel g...\n",
              "4  My girlfriends and I stayed here to celebrate ...  ...  girlfriend stay celebr th birthday plan weeken...\n",
              "\n",
              "[5 rows x 3 columns]"
            ]
          },
          "metadata": {
            "tags": []
          },
          "execution_count": 40
        }
      ]
    },
    {
      "cell_type": "code",
      "metadata": {
        "colab": {
          "base_uri": "https://localhost:8080/"
        },
        "id": "FQDZdr1GZ84z",
        "outputId": "ba8c4500-678c-485c-aea8-c0c7f1823fb9"
      },
      "source": [
        "from sklearn.model_selection import train_test_split\n",
        "\n",
        "X = data['cleaned_reviews']\n",
        "y = data[\"Is_Response\"]\n",
        "#Splitting Data\n",
        "X_train, X_test, y_train, y_test = train_test_split(X, y, test_size = 0.2, random_state = 42)\n",
        "\n",
        "from sklearn.feature_extraction.text import TfidfVectorizer\n",
        "from sklearn.feature_extraction.text import CountVectorizer\n",
        "\n",
        "from sklearn.tree import DecisionTreeClassifier\n",
        "from sklearn.ensemble import RandomForestClassifier\n",
        "from sklearn.linear_model import LogisticRegression\n",
        "from sklearn.naive_bayes import GaussianNB\n",
        "from xgboost import XGBClassifier\n",
        "from sklearn.svm import SVC\n",
        "from sklearn.model_selection import GridSearchCV\n",
        "\n",
        "\n",
        "tvec = TfidfVectorizer() #TF-IDF\n",
        "clf = LogisticRegression(random_state=1, n_jobs=-1) #Classification Model 0.863\n",
        "clf2 = SVC(kernel='linear',gamma=100) # 0.8515\n",
        "clf3 = XGBClassifier() # 0.8085\n",
        "dtc = DecisionTreeClassifier(criterion = 'gini',max_depth = 10, min_samples_leaf =3, random_state=101) # 0.699\n",
        "rdf = RandomForestClassifier(criterion = 'gini',max_depth = 10, min_samples_leaf =3, random_state=101) # 0.7725\n",
        "svc = SVC(C=5, gamma=0.1, probability=True, decision_function_shape='ovr') #0.8505\n",
        "\n",
        "\n",
        "from sklearn.pipeline import Pipeline\n",
        "\n",
        "model = Pipeline([('vectorizer', tvec),('classifier', clf)])\n",
        "model.fit(X_train, y_train)\n",
        "prediction = model.predict(X_test)\n",
        "\n",
        "from sklearn.metrics import confusion_matrix\n",
        "print(confusion_matrix(prediction, y_test))\n",
        "\n",
        "\n",
        "from sklearn.metrics import accuracy_score, precision_score, recall_score, classification_report\n",
        "\n",
        "print(\"Accuracy : \", accuracy_score(predictions, y_test))\n",
        "# print(\"Precision : \", precision_score(predictions, y_test, average = 'weighted'))\n",
        "# print(\"Recall : \", recall_score(predictions, y_test, average = 'weighted'))\n",
        "\n",
        "print('train score: ', model.score(X_train, y_train))\n",
        "print('test score: ', model.score(X_test, y_test))\n",
        "print('pred score: ', model.score(X_test, prediction))\n",
        "print(\"classification: \", classification_report(predictions,y_test))"
      ],
      "execution_count": 106,
      "outputs": [
        {
          "output_type": "stream",
          "text": [
            "[[889 121]\n",
            " [153 837]]\n",
            "Accuracy :  0.7915\n",
            "train score:  0.907125\n",
            "test score:  0.863\n",
            "pred score:  1.0\n",
            "classification:                precision    recall  f1-score   support\n",
            "\n",
            "           0       0.78      0.81      0.80       993\n",
            "           1       0.81      0.77      0.79      1007\n",
            "\n",
            "    accuracy                           0.79      2000\n",
            "   macro avg       0.79      0.79      0.79      2000\n",
            "weighted avg       0.79      0.79      0.79      2000\n",
            "\n"
          ],
          "name": "stdout"
        }
      ]
    },
    {
      "cell_type": "code",
      "metadata": {
        "colab": {
          "base_uri": "https://localhost:8080/"
        },
        "id": "v5-urym3TAhu",
        "outputId": "08cd4ee4-4deb-448a-cc3e-44b7c15057aa"
      },
      "source": [
        "X_train.head()"
      ],
      "execution_count": 108,
      "outputs": [
        {
          "output_type": "execute_result",
          "data": {
            "text/plain": [
              "9254    not bad build oldest skyscrap philli someth li...\n",
              "1561    husband stay watertown love room clean bed com...\n",
              "1670    basic want closest budget hotelmotel seattl ce...\n",
              "6087    boyfriend friend move stay hotel week move new...\n",
              "6669    not fanci hotel standard clean comfort locat u...\n",
              "Name: cleaned_reviews, dtype: object"
            ]
          },
          "metadata": {
            "tags": []
          },
          "execution_count": 108
        }
      ]
    },
    {
      "cell_type": "code",
      "metadata": {
        "id": "pEZ-X-Rv7nKX"
      },
      "source": [
        "from sklearn.naive_bayes import MultinomialNB\r\n",
        "\r\n",
        "mul = MultinomialNB()\r\n",
        "model1 = Pipeline([('vectorizer', tvec),('classifier', mul)])\r\n",
        "model1.fit(X_train, y_train)\r\n",
        "\r\n",
        "y_pred = model1.predict(X_test)\r\n"
      ],
      "execution_count": 109,
      "outputs": []
    },
    {
      "cell_type": "code",
      "metadata": {
        "colab": {
          "base_uri": "https://localhost:8080/"
        },
        "id": "kn75Jgrh72Il",
        "outputId": "60395ca5-f574-4dfa-c8d5-a029cdca93f0"
      },
      "source": [
        "print(\"Accuracy : \", accuracy_score(y_pred, y_test))\r\n",
        "print('train score: ', model.score(X_train, y_train))\r\n",
        "print('test score: ', model.score(X_test, y_test))\r\n",
        "print('pred score: ', model.score(X_test, y_pred))\r\n",
        "print(\"classification: \", classification_report(y_pred,y_test))"
      ],
      "execution_count": 110,
      "outputs": [
        {
          "output_type": "stream",
          "text": [
            "Accuracy :  0.847\n",
            "train score:  0.907125\n",
            "test score:  0.863\n",
            "pred score:  0.922\n",
            "classification:                precision    recall  f1-score   support\n",
            "\n",
            "           0       0.82      0.88      0.85       980\n",
            "           1       0.87      0.82      0.85      1020\n",
            "\n",
            "    accuracy                           0.85      2000\n",
            "   macro avg       0.85      0.85      0.85      2000\n",
            "weighted avg       0.85      0.85      0.85      2000\n",
            "\n"
          ],
          "name": "stdout"
        }
      ]
    },
    {
      "cell_type": "code",
      "metadata": {
        "id": "Cq5pMA3nCMsT"
      },
      "source": [
        ""
      ],
      "execution_count": 105,
      "outputs": []
    },
    {
      "cell_type": "code",
      "metadata": {
        "colab": {
          "base_uri": "https://localhost:8080/"
        },
        "id": "k7msbSoZZ842",
        "outputId": "0c99f783-d4ac-471e-fa83-f73ee97171e5"
      },
      "source": [
        "filename = 'model_hotelreviews.pkl'\n",
        "pickle.dump(model1, open(filename, 'wb'))\n",
        " \n",
        "loaded_model = pickle.load(open(filename, 'rb'))\n",
        "result = loaded_model.score(X_test, y_test)\n",
        "print(result)"
      ],
      "execution_count": 111,
      "outputs": [
        {
          "output_type": "stream",
          "text": [
            "0.847\n"
          ],
          "name": "stdout"
        }
      ]
    },
    {
      "cell_type": "code",
      "metadata": {
        "id": "mkmntuSwZ843"
      },
      "source": [
        "def predict(review):\n",
        "    model = pickle.load(open('model_hotelreviews.pkl', 'rb'))\n",
        "\n",
        "    sent = model.predict([review])\n",
        "    if sent[0]== 0:\n",
        "        return \"Negative\"\n",
        "    else:\n",
        "        return \"Positive\""
      ],
      "execution_count": 116,
      "outputs": []
    },
    {
      "cell_type": "code",
      "metadata": {
        "colab": {
          "base_uri": "https://localhost:8080/",
          "height": 35
        },
        "id": "aOK_lhzcZ844",
        "outputId": "0a143899-6d76-466a-9146-4ad63dbbf429"
      },
      "source": [
        "predict(\"not good\")\n"
      ],
      "execution_count": 117,
      "outputs": [
        {
          "output_type": "execute_result",
          "data": {
            "application/vnd.google.colaboratory.intrinsic+json": {
              "type": "string"
            },
            "text/plain": [
              "'Negative'"
            ]
          },
          "metadata": {
            "tags": []
          },
          "execution_count": 117
        }
      ]
    },
    {
      "cell_type": "code",
      "metadata": {
        "id": "jszsMB6kZ845",
        "outputId": "a0069df7-6190-4568-ce84-c706adff0ab2"
      },
      "source": [
        ""
      ],
      "execution_count": null,
      "outputs": [
        {
          "output_type": "stream",
          "text": [
            "0.878\n"
          ],
          "name": "stdout"
        }
      ]
    },
    {
      "cell_type": "code",
      "metadata": {
        "id": "m448Z7z0Z846",
        "outputId": "b0ee827f-165f-4f04-f47d-5e25c104170e"
      },
      "source": [
        "predict(\"Siddharth from MyLoanCare helped well and the loan got processed fast\")\n"
      ],
      "execution_count": null,
      "outputs": [
        {
          "output_type": "execute_result",
          "data": {
            "text/plain": [
              "'Positive'"
            ]
          },
          "metadata": {
            "tags": []
          },
          "execution_count": 25
        }
      ]
    },
    {
      "cell_type": "code",
      "metadata": {
        "id": "QcvzyCpeZ847"
      },
      "source": [
        "customer_reviews = ['Siddharth from MyLoanCare helped well and the loan got processed fast','Its a very good experience with you. Here I found the best deal and best interest rate of all banks'\n",
        "                   ,'Very good. Special thanks to Saurabh Gandhi from MyLoanCare and Ram from HDFC Bank',\n",
        "                   'Amazing service. Really happy with the team. Definitely recommend it to everyone.',\n",
        "                   'Worst service by the bank',\n",
        "                   'had very bad expierience']"
      ],
      "execution_count": null,
      "outputs": []
    },
    {
      "cell_type": "code",
      "metadata": {
        "id": "Hnhp-M0gZ848",
        "outputId": "f6d9f707-3c32-4ec4-98a9-21b5330f2ee0"
      },
      "source": [
        "for i in customer_reviews:\n",
        "    print(predict(i))"
      ],
      "execution_count": null,
      "outputs": [
        {
          "output_type": "stream",
          "text": [
            "Positive\n",
            "Positive\n",
            "Positive\n",
            "Positive\n",
            "Negative\n",
            "Negative\n"
          ],
          "name": "stdout"
        }
      ]
    },
    {
      "cell_type": "code",
      "metadata": {
        "id": "1w0bmVruZ849"
      },
      "source": [
        ""
      ],
      "execution_count": null,
      "outputs": []
    }
  ]
}