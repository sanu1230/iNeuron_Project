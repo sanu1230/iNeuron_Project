{
 "cells": [
  {
   "cell_type": "code",
   "execution_count": 1,
   "metadata": {},
   "outputs": [],
   "source": [
    "import re\n",
    "import pymongo\n",
    "import pandas as pd\n",
    "from pprint import pprint\n",
    "from pymongo import MongoClient"
   ]
  },
  {
   "cell_type": "markdown",
   "metadata": {},
   "source": [
    "#### Right info from data base (1000040, Pradeep, 8-10-1968)\n",
    "\n",
    "####  Wrong info from data base(1000000, Pradeep, 8-10-1968)"
   ]
  },
  {
   "cell_type": "code",
   "execution_count": 2,
   "metadata": {},
   "outputs": [],
   "source": [
    "aut_input= []"
   ]
  },
  {
   "cell_type": "code",
   "execution_count": 3,
   "metadata": {},
   "outputs": [
    {
     "name": "stdout",
     "output_type": "stream",
     "text": [
      "aut_id:\n",
      "1000000\n",
      "name_input:\n",
      "Pradeep\n",
      "aut_dob:\n",
      " 8-10-1968\n"
     ]
    }
   ],
   "source": [
    "print('aut_id:')\n",
    "aut_id = input()\n",
    "print('name_input:')\n",
    "name_input =  input()\n",
    "print('aut_dob:')\n",
    "aut_dob =  input()"
   ]
  },
  {
   "cell_type": "code",
   "execution_count": 4,
   "metadata": {},
   "outputs": [
    {
     "data": {
      "text/plain": [
       "'1000000'"
      ]
     },
     "execution_count": 4,
     "metadata": {},
     "output_type": "execute_result"
    }
   ],
   "source": [
    "aut_id"
   ]
  },
  {
   "cell_type": "code",
   "execution_count": 5,
   "metadata": {},
   "outputs": [
    {
     "data": {
      "text/plain": [
       "'Pradeep'"
      ]
     },
     "execution_count": 5,
     "metadata": {},
     "output_type": "execute_result"
    }
   ],
   "source": [
    "name_input"
   ]
  },
  {
   "cell_type": "code",
   "execution_count": 6,
   "metadata": {},
   "outputs": [
    {
     "data": {
      "text/plain": [
       "' 8-10-1968'"
      ]
     },
     "execution_count": 6,
     "metadata": {},
     "output_type": "execute_result"
    }
   ],
   "source": [
    "aut_dob"
   ]
  },
  {
   "cell_type": "code",
   "execution_count": 7,
   "metadata": {},
   "outputs": [],
   "source": [
    "if \"customer_id\" in aut_id:\n",
    "    customer_id = aut_id.replace(\"my UserID is \", '')\n",
    "    aut_id.appned(customer_id)\n",
    "elif \"my first name is\" in name_input:\n",
    "    nam = name_input.replace(\"my first name is \", '')\n",
    "    nam_input.append([nam])\n",
    "elif \"date of birth is\" in aut_dob:\n",
    "    dob = re.findall('[0-9]+', aut_dob)\n",
    "    aut_dob.append(dob)"
   ]
  },
  {
   "cell_type": "code",
   "execution_count": 8,
   "metadata": {},
   "outputs": [
    {
     "name": "stdout",
     "output_type": "stream",
     "text": [
      "inpt - ['1000000', 'Pradeep', ' 8-10-1968']\n"
     ]
    }
   ],
   "source": [
    "aut_input.append(aut_id)\n",
    "aut_input.append(name_input)\n",
    "aut_input.append(aut_dob)\n",
    "print(\"inpt -\", aut_input)"
   ]
  },
  {
   "cell_type": "code",
   "execution_count": 9,
   "metadata": {},
   "outputs": [
    {
     "name": "stdout",
     "output_type": "stream",
     "text": [
      "['1000000', 'Pradeep', ' 8-10-1968']\n"
     ]
    }
   ],
   "source": [
    "print(aut_input)"
   ]
  },
  {
   "cell_type": "code",
   "execution_count": 11,
   "metadata": {},
   "outputs": [
    {
     "name": "stdout",
     "output_type": "stream",
     "text": [
      "input_dict: {'Customer_id': '1000000', 'First_name': 'Pradeep', 'Date_of_birth': ' 8-10-1968'}\n",
      "input_df:    Customer_id First_name Date_of_birth\n",
      "0     1000000    Pradeep     8-10-1968\n"
     ]
    }
   ],
   "source": [
    "inpt = aut_input\n",
    "customer_id = inpt[0]\n",
    "name = inpt[1]\n",
    "dob = inpt[2]\n",
    "in_dict = {\"Customer_id\" : customer_id,\"First_name\" : name,\"Date_of_birth\" : dob}\n",
    "print(\"input_dict:\", in_dict)\n",
    "in_df = pd.DataFrame(in_dict, index=[0])\n",
    "print('input_df: ', in_df)"
   ]
  },
  {
   "cell_type": "code",
   "execution_count": 14,
   "metadata": {},
   "outputs": [
    {
     "name": "stdout",
     "output_type": "stream",
     "text": [
      "None\n"
     ]
    }
   ],
   "source": [
    "DEFAULT_CONNECTION_URL = \"mongodb://localhost:27017/\"\n",
    "db_client = pymongo.MongoClient(DEFAULT_CONNECTION_URL)\n",
    "db = db_client.AIBankbot\n",
    "db = db.Personal_Loan_Customers\n",
    "res = db.find_one({\"Customer_id\": aut_input[0] ,\"First_name\": aut_input[1],\"Date_of_birth\":aut_input[2]})\n",
    "global res\n",
    "pprint(res)"
   ]
  },
  {
   "cell_type": "code",
   "execution_count": 15,
   "metadata": {},
   "outputs": [],
   "source": [
    "global res\n",
    "def re(res):\n",
    "    if res ==None:\n",
    "        return False\n",
    "    else:\n",
    "        return True,\n"
   ]
  },
  {
   "cell_type": "code",
   "execution_count": 16,
   "metadata": {},
   "outputs": [
    {
     "name": "stdout",
     "output_type": "stream",
     "text": [
      "False\n"
     ]
    }
   ],
   "source": [
    "print(re(res))\n"
   ]
  }
 ],
 "metadata": {
  "kernelspec": {
   "display_name": "Python 3",
   "language": "python",
   "name": "python3"
  },
  "language_info": {
   "codemirror_mode": {
    "name": "ipython",
    "version": 3
   },
   "file_extension": ".py",
   "mimetype": "text/x-python",
   "name": "python",
   "nbconvert_exporter": "python",
   "pygments_lexer": "ipython3",
   "version": "3.8.5"
  }
 },
 "nbformat": 4,
 "nbformat_minor": 4
}
